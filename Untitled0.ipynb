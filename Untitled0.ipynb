{
  "nbformat": 4,
  "nbformat_minor": 0,
  "metadata": {
    "colab": {
      "provenance": [],
      "authorship_tag": "ABX9TyPWTER2ZolN36E0XiiaRIcy",
      "include_colab_link": true
    },
    "kernelspec": {
      "name": "python3",
      "display_name": "Python 3"
    },
    "language_info": {
      "name": "python"
    }
  },
  "cells": [
    {
      "cell_type": "markdown",
      "metadata": {
        "id": "view-in-github",
        "colab_type": "text"
      },
      "source": [
        "<a href=\"https://colab.research.google.com/github/abdulhkeemalrasheedi/DATA-MINING/blob/main/Untitled0.ipynb\" target=\"_parent\"><img src=\"https://colab.research.google.com/assets/colab-badge.svg\" alt=\"Open In Colab\"/></a>"
      ]
    },
    {
      "cell_type": "code",
      "execution_count": 1,
      "metadata": {
        "colab": {
          "base_uri": "https://localhost:8080/",
          "height": 0
        },
        "id": "JgZE0CBPWByV",
        "outputId": "a72fe100-e5a0-43f7-b5af-6ffe076650e1"
      },
      "outputs": [
        {
          "output_type": "stream",
          "name": "stdout",
          "text": [
            "Sum: 15\n",
            "Difference: 5\n",
            "Product: 50\n",
            "Division: 2.0\n"
          ]
        }
      ],
      "source": [
        "a= 10\n",
        "b= 5\n",
        "sum = a+b\n",
        "difference = a-b\n",
        "product = a*b\n",
        "division = a/b\n",
        "print(\"Sum:\", sum)\n",
        "print(\"Difference:\", difference)\n",
        "print(\"Product:\", product)\n",
        "print(\"Division:\", division)"
      ]
    },
    {
      "cell_type": "code",
      "source": [
        "print(f\"The sum of the two numbers {a}, {b} is {sum}\")"
      ],
      "metadata": {
        "colab": {
          "base_uri": "https://localhost:8080/",
          "height": 0
        },
        "id": "mlefs5B5Y4_v",
        "outputId": "f0c37d1c-a8d4-4124-8e14-39c077b81cfd"
      },
      "execution_count": 5,
      "outputs": [
        {
          "output_type": "stream",
          "name": "stdout",
          "text": [
            "The sum of the two numbers 10, 5 is 15\n"
          ]
        }
      ]
    },
    {
      "cell_type": "code",
      "source": [
        "x = 13//2\n",
        "print(x)\n",
        "y= 13%2\n",
        "print (y)"
      ],
      "metadata": {
        "colab": {
          "base_uri": "https://localhost:8080/"
        },
        "id": "RCR-Xuj7bl20",
        "outputId": "89089dde-bc71-4f18-ff37-6c80fdc03978"
      },
      "execution_count": 6,
      "outputs": [
        {
          "output_type": "stream",
          "name": "stdout",
          "text": [
            "6\n",
            "1\n"
          ]
        }
      ]
    },
    {
      "cell_type": "code",
      "source": [
        "x = 10\n",
        "y = 5\n",
        "\n",
        "is_greater = x > y\n",
        "is_equa1 = x==y\n",
        "is_not_equa1 = x != y\n",
        "\n",
        "print(\"is x greater than y?\", is_greater)\n",
        "print(\"is x equa1 y?\", is_equa1)\n",
        "print(\"is x_not_equa1 to y?\", is_not_equa1)\n"
      ],
      "metadata": {
        "colab": {
          "base_uri": "https://localhost:8080/"
        },
        "id": "dOHL53HQc2A4",
        "outputId": "bc42bae9-6267-4d8d-dbf0-1e27132a2a2f"
      },
      "execution_count": 9,
      "outputs": [
        {
          "output_type": "stream",
          "name": "stdout",
          "text": [
            "is x greater than y? True\n",
            "is x equa1 y? False\n",
            "is x_not_equa1 to y? True\n"
          ]
        }
      ]
    },
    {
      "cell_type": "code",
      "source": [
        "name = \"Abdulhkeem\"\n",
        "age = 39\n",
        "is_researcher = True\n",
        "\n",
        "print(f\"{name}'s age is {age}. He is a Researche is {is_researcher}\")"
      ],
      "metadata": {
        "colab": {
          "base_uri": "https://localhost:8080/"
        },
        "id": "YK29QakXgRYO",
        "outputId": "e82dac62-774a-4964-c6a2-413071c6abc2"
      },
      "execution_count": 11,
      "outputs": [
        {
          "output_type": "stream",
          "name": "stdout",
          "text": [
            "Abdulhkeem's age is 39. He is a Researche is True\n"
          ]
        }
      ]
    },
    {
      "cell_type": "code",
      "source": [
        "def greet (name) :\n",
        "  return \"Hello,\" + name + \"!\"\n",
        "\n",
        "my_name = input(\"Enter your name:\")\n",
        "greet(\"Abdulhkeem\")"
      ],
      "metadata": {
        "colab": {
          "base_uri": "https://localhost:8080/",
          "height": 53
        },
        "id": "MvSXktAYiAta",
        "outputId": "25aa430d-e894-49f7-ce35-860d8285a261"
      },
      "execution_count": 87,
      "outputs": [
        {
          "name": "stdout",
          "output_type": "stream",
          "text": [
            "Enter your name:Abdulhkeem\n"
          ]
        },
        {
          "output_type": "execute_result",
          "data": {
            "text/plain": [
              "'Hello,Abdulhkeem!'"
            ],
            "application/vnd.google.colaboratory.intrinsic+json": {
              "type": "string"
            }
          },
          "metadata": {},
          "execution_count": 87
        }
      ]
    },
    {
      "cell_type": "code",
      "source": [
        "def add_number(a,b):\n",
        "  return a+b\n",
        "\n",
        "  a=input(\"enter first number:\")\n",
        "  b=input(\"enter second number:\")\n",
        "\n",
        "  addition_value = add_number(a,b)\n",
        "  print(f\"The result of addition of {a},{b} is {addition_value}\")"
      ],
      "metadata": {
        "id": "Yx48H3ywlmle"
      },
      "execution_count": 100,
      "outputs": []
    },
    {
      "cell_type": "code",
      "source": [
        "def add_numbers(a,b):\n",
        "  return a+b\n",
        "\n",
        "  a = int(input(\"enter first number:\"))\n",
        "  b = int(input(\"enter second number:\"))\n",
        "\n",
        "  addition_value = add_numbers(a,b)\n",
        "  print(f\"The result of addition for {a},{b} is {addition_value}\")"
      ],
      "metadata": {
        "id": "qkZdvw7u1Wv7"
      },
      "execution_count": 96,
      "outputs": []
    },
    {
      "cell_type": "code",
      "source": [
        "def add_numbers(a,b):\n",
        "  return a+b\n",
        "\n",
        "  a = eval(input(\"enter first number:\"))\n",
        "  b = eval(input(\"enter second number:\"))\n",
        "\n",
        "  addition_value = add_numbers(a,b)\n",
        "  print(f\"The result of addition for {a},{b} is {addition_value}\")"
      ],
      "metadata": {
        "id": "NpT2YzET17t1"
      },
      "execution_count": 102,
      "outputs": []
    },
    {
      "cell_type": "code",
      "source": [
        "# Working with strings\n",
        "message = \"Hello,World\"\n",
        "length = len(message)\n",
        "uppercase = message.upper()\n",
        "lowercase = message.lower()\n",
        "substring = message[7:12]\n",
        "\n",
        "print(\"Original message:\", message)\n",
        "print(\"The length is: \", length)\n",
        "print(\"Upper case: \", uppercase)\n",
        "print(\"Lower case: \", lowercase)\n",
        "print(\"Part of the messge is: \", substring)\n"
      ],
      "metadata": {
        "colab": {
          "base_uri": "https://localhost:8080/"
        },
        "collapsed": true,
        "id": "_r1TmS5m16xj",
        "outputId": "d3926e77-5bc9-407c-ac56-6978e9f07239"
      },
      "execution_count": 106,
      "outputs": [
        {
          "output_type": "stream",
          "name": "stdout",
          "text": [
            "Original message: Hello,World\n",
            "The length is:  11\n",
            "Upper case:  HELLO,WORLD\n",
            "Lower case:  hello,world\n",
            "Part of the messge is:  orld\n"
          ]
        }
      ]
    },
    {
      "cell_type": "code",
      "source": [
        "# Basic input example\n",
        "Last = input(\"Enter the last name, last name:\")\n",
        "First = input(\"Enter the last name, first name:\")\n",
        "\n",
        "print(f\"{Last}, {First}\")"
      ],
      "metadata": {
        "colab": {
          "base_uri": "https://localhost:8080/"
        },
        "id": "p-dPgifQAyD_",
        "outputId": "42699fa7-3bd7-459c-d320-76c13724fcb8"
      },
      "execution_count": 116,
      "outputs": [
        {
          "output_type": "stream",
          "name": "stdout",
          "text": [
            "Enter the last name, last name:Alrasheedi\n",
            "Enter the last name, first name:Abdulhkeem\n",
            "Alrasheedi, Abdulhkeem\n"
          ]
        }
      ]
    },
    {
      "cell_type": "code",
      "source": [
        "# @title Default title text\n",
        "age = int (input(\"Enter your age:\"))\n",
        "print(\"You will be\", age + 1, \"years old next year.\")"
      ],
      "metadata": {
        "colab": {
          "base_uri": "https://localhost:8080/"
        },
        "id": "ErxQoOGIEA9b",
        "outputId": "51278ca1-0ade-4d65-e64f-b12c3646d1df"
      },
      "execution_count": 110,
      "outputs": [
        {
          "output_type": "stream",
          "name": "stdout",
          "text": [
            "Enter your age:39\n",
            "You will be 40 years old next year.\n"
          ]
        }
      ]
    },
    {
      "cell_type": "code",
      "source": [
        "num1 = float (input(\"Enter a number:\"))\n",
        "num2 = float (input(\"Enter another number:\"))\n",
        "sum_result = num1 + num2\n",
        "print(\"Sum:\", sum_result)\n"
      ],
      "metadata": {
        "colab": {
          "base_uri": "https://localhost:8080/"
        },
        "id": "8AFwR81UFjZX",
        "outputId": "6ff18617-6a38-4eab-b076-0f46db366c2d"
      },
      "execution_count": 111,
      "outputs": [
        {
          "output_type": "stream",
          "name": "stdout",
          "text": [
            "Enter a number:12\n",
            "Enter another number:14\n",
            "Sum: 26.0\n"
          ]
        }
      ]
    },
    {
      "cell_type": "code",
      "source": [
        "city = input(\"Enter your city:\")\n",
        "country = input(\"Enter your country:\")\n",
        "location = city + \",\"+country\n",
        "print(\"You are in:\", location)\n"
      ],
      "metadata": {
        "colab": {
          "base_uri": "https://localhost:8080/"
        },
        "id": "W7ca1_rZHWnB",
        "outputId": "0c186bb9-a182-497e-8e64-def8b2f48399"
      },
      "execution_count": 112,
      "outputs": [
        {
          "output_type": "stream",
          "name": "stdout",
          "text": [
            "Enter your city:Tabuk\n",
            "Enter your country:KSA\n",
            "You are in: Tabuk,KSA\n"
          ]
        }
      ]
    },
    {
      "cell_type": "code",
      "source": [
        "name, age = input(\"Enter your name and age separated by space:\").split()\n",
        "print(f\"my name is {name} and my age is {age}\")\n"
      ],
      "metadata": {
        "colab": {
          "base_uri": "https://localhost:8080/"
        },
        "id": "xeBxO7giIptj",
        "outputId": "33478733-5539-42c9-bbca-77586f2c9743"
      },
      "execution_count": 114,
      "outputs": [
        {
          "output_type": "stream",
          "name": "stdout",
          "text": [
            "Enter your name and age separated by space:Abdulhkeem 39\n",
            "my name is Abdulhkeem and my age is 39\n"
          ]
        }
      ]
    }
  ]
}